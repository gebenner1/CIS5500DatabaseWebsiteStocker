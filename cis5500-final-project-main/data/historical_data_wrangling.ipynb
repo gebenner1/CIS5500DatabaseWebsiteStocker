{
 "cells": [
  {
   "cell_type": "code",
   "execution_count": 2,
   "id": "be874df1",
   "metadata": {},
   "outputs": [],
   "source": [
    "import pandas as pd"
   ]
  },
  {
   "cell_type": "code",
   "execution_count": 37,
   "id": "8f70f23f",
   "metadata": {},
   "outputs": [],
   "source": [
    "df = pd.read_csv(\"Amalgamated_Data_File.csv\")"
   ]
  },
  {
   "cell_type": "code",
   "execution_count": 38,
   "id": "5d7c454e",
   "metadata": {},
   "outputs": [],
   "source": [
    "df = df[df['Media_Source'] != 'BlazeTV']"
   ]
  },
  {
   "cell_type": "code",
   "execution_count": 39,
   "id": "7c76c435",
   "metadata": {},
   "outputs": [],
   "source": [
    "df = df[['Media_Source', 'Published_Date', 'Video_Title']]"
   ]
  },
  {
   "cell_type": "code",
   "execution_count": 40,
   "id": "2d814e63",
   "metadata": {},
   "outputs": [
    {
     "data": {
      "text/plain": [
       "Media_Source      object\n",
       "Published_Date    object\n",
       "Video_Title       object\n",
       "dtype: object"
      ]
     },
     "execution_count": 40,
     "metadata": {},
     "output_type": "execute_result"
    }
   ],
   "source": [
    "df.dtypes"
   ]
  },
  {
   "cell_type": "code",
   "execution_count": 41,
   "id": "7e9308eb",
   "metadata": {},
   "outputs": [],
   "source": [
    "df['Published_Date'] = df['Published_Date'].str[:10]"
   ]
  },
  {
   "cell_type": "code",
   "execution_count": 42,
   "id": "7e309182",
   "metadata": {},
   "outputs": [],
   "source": [
    "df['Video_Title'] = df['Video_Title'].apply(lambda x: x[6:] if x[0:5] == 'LIVE:' else x)"
   ]
  },
  {
   "cell_type": "code",
   "execution_count": 43,
   "id": "4ec04f92",
   "metadata": {},
   "outputs": [],
   "source": [
    "df['Video_Title'] = df['Video_Title'].apply(lambda x: x[7:] if x[0:6] == 'WATCH:' else x)"
   ]
  },
  {
   "cell_type": "code",
   "execution_count": 53,
   "id": "c9ac0420",
   "metadata": {},
   "outputs": [],
   "source": [
    "df['Video_Title'] = df['Video_Title'].apply(lambda x: x[12:] if x[0:11] == 'WATCH LIVE:' else x)"
   ]
  },
  {
   "cell_type": "code",
   "execution_count": 54,
   "id": "c68075ee",
   "metadata": {},
   "outputs": [
    {
     "data": {
      "text/html": [
       "<div>\n",
       "<style scoped>\n",
       "    .dataframe tbody tr th:only-of-type {\n",
       "        vertical-align: middle;\n",
       "    }\n",
       "\n",
       "    .dataframe tbody tr th {\n",
       "        vertical-align: top;\n",
       "    }\n",
       "\n",
       "    .dataframe thead th {\n",
       "        text-align: right;\n",
       "    }\n",
       "</style>\n",
       "<table border=\"1\" class=\"dataframe\">\n",
       "  <thead>\n",
       "    <tr style=\"text-align: right;\">\n",
       "      <th></th>\n",
       "      <th>Media_Source</th>\n",
       "      <th>Published_Date</th>\n",
       "      <th>Video_Title</th>\n",
       "    </tr>\n",
       "  </thead>\n",
       "  <tbody>\n",
       "    <tr>\n",
       "      <th>67399</th>\n",
       "      <td>PBS</td>\n",
       "      <td>2021-11-19</td>\n",
       "      <td>Speaker Pelosi, House Democrats hold news conf...</td>\n",
       "    </tr>\n",
       "    <tr>\n",
       "      <th>67400</th>\n",
       "      <td>PBS</td>\n",
       "      <td>2021-11-19</td>\n",
       "      <td>House votes on Build Back Better bill</td>\n",
       "    </tr>\n",
       "    <tr>\n",
       "      <th>67401</th>\n",
       "      <td>PBS</td>\n",
       "      <td>2021-11-19</td>\n",
       "      <td>House debates Build Back Better bill before ex...</td>\n",
       "    </tr>\n",
       "    <tr>\n",
       "      <th>67402</th>\n",
       "      <td>PBS</td>\n",
       "      <td>2021-11-19</td>\n",
       "      <td>PBS NewsHour West live episode, Nov. 18, 2021</td>\n",
       "    </tr>\n",
       "    <tr>\n",
       "      <th>67403</th>\n",
       "      <td>PBS</td>\n",
       "      <td>2021-11-19</td>\n",
       "      <td>PBS NewsHour full episode, Nov. 18, 2021</td>\n",
       "    </tr>\n",
       "    <tr>\n",
       "      <th>...</th>\n",
       "      <td>...</td>\n",
       "      <td>...</td>\n",
       "      <td>...</td>\n",
       "    </tr>\n",
       "    <tr>\n",
       "      <th>87394</th>\n",
       "      <td>PBS</td>\n",
       "      <td>2017-08-16</td>\n",
       "      <td>VA Sec. Shulkin discusses Veterans Educational...</td>\n",
       "    </tr>\n",
       "    <tr>\n",
       "      <th>87395</th>\n",
       "      <td>PBS</td>\n",
       "      <td>2017-08-16</td>\n",
       "      <td>AG Sessions discusses sanctuary cities in Miami</td>\n",
       "    </tr>\n",
       "    <tr>\n",
       "      <th>87396</th>\n",
       "      <td>PBS</td>\n",
       "      <td>2017-08-16</td>\n",
       "      <td>Vice President Pence responds to question on P...</td>\n",
       "    </tr>\n",
       "    <tr>\n",
       "      <th>87397</th>\n",
       "      <td>PBS</td>\n",
       "      <td>2017-08-16</td>\n",
       "      <td>Funeral service for Heather Heyer, who was kil...</td>\n",
       "    </tr>\n",
       "    <tr>\n",
       "      <th>87398</th>\n",
       "      <td>PBS</td>\n",
       "      <td>2017-08-16</td>\n",
       "      <td>Baltimore mayor addresses removal of Confedera...</td>\n",
       "    </tr>\n",
       "  </tbody>\n",
       "</table>\n",
       "<p>20000 rows × 3 columns</p>\n",
       "</div>"
      ],
      "text/plain": [
       "      Media_Source Published_Date  \\\n",
       "67399          PBS     2021-11-19   \n",
       "67400          PBS     2021-11-19   \n",
       "67401          PBS     2021-11-19   \n",
       "67402          PBS     2021-11-19   \n",
       "67403          PBS     2021-11-19   \n",
       "...            ...            ...   \n",
       "87394          PBS     2017-08-16   \n",
       "87395          PBS     2017-08-16   \n",
       "87396          PBS     2017-08-16   \n",
       "87397          PBS     2017-08-16   \n",
       "87398          PBS     2017-08-16   \n",
       "\n",
       "                                             Video_Title  \n",
       "67399  Speaker Pelosi, House Democrats hold news conf...  \n",
       "67400              House votes on Build Back Better bill  \n",
       "67401  House debates Build Back Better bill before ex...  \n",
       "67402      PBS NewsHour West live episode, Nov. 18, 2021  \n",
       "67403           PBS NewsHour full episode, Nov. 18, 2021  \n",
       "...                                                  ...  \n",
       "87394  VA Sec. Shulkin discusses Veterans Educational...  \n",
       "87395    AG Sessions discusses sanctuary cities in Miami  \n",
       "87396  Vice President Pence responds to question on P...  \n",
       "87397  Funeral service for Heather Heyer, who was kil...  \n",
       "87398  Baltimore mayor addresses removal of Confedera...  \n",
       "\n",
       "[20000 rows x 3 columns]"
      ]
     },
     "execution_count": 54,
     "metadata": {},
     "output_type": "execute_result"
    }
   ],
   "source": [
    "df[df['Media_Source'] == 'PBS']"
   ]
  },
  {
   "cell_type": "code",
   "execution_count": 60,
   "id": "0836c151",
   "metadata": {},
   "outputs": [],
   "source": [
    "df.to_csv(\"df_finalized_historic_news.csv\")"
   ]
  },
  {
   "cell_type": "code",
   "execution_count": 56,
   "id": "edf2ec2c",
   "metadata": {},
   "outputs": [
    {
     "data": {
      "text/html": [
       "<div>\n",
       "<style scoped>\n",
       "    .dataframe tbody tr th:only-of-type {\n",
       "        vertical-align: middle;\n",
       "    }\n",
       "\n",
       "    .dataframe tbody tr th {\n",
       "        vertical-align: top;\n",
       "    }\n",
       "\n",
       "    .dataframe thead th {\n",
       "        text-align: right;\n",
       "    }\n",
       "</style>\n",
       "<table border=\"1\" class=\"dataframe\">\n",
       "  <thead>\n",
       "    <tr style=\"text-align: right;\">\n",
       "      <th></th>\n",
       "      <th>Media_Source</th>\n",
       "      <th>Published_Date</th>\n",
       "      <th>Video_Title</th>\n",
       "    </tr>\n",
       "  </thead>\n",
       "  <tbody>\n",
       "    <tr>\n",
       "      <th>7417</th>\n",
       "      <td>CNN</td>\n",
       "      <td>2021-11-19</td>\n",
       "      <td>Analysis: Why new Ohio redistricting maps are ...</td>\n",
       "    </tr>\n",
       "    <tr>\n",
       "      <th>7418</th>\n",
       "      <td>CNN</td>\n",
       "      <td>2021-11-19</td>\n",
       "      <td>Ahmaud Arbery's mother is 'confident we will g...</td>\n",
       "    </tr>\n",
       "    <tr>\n",
       "      <th>7419</th>\n",
       "      <td>CNN</td>\n",
       "      <td>2021-11-19</td>\n",
       "      <td>CNN reporter presses Belarusian Foreign Minist...</td>\n",
       "    </tr>\n",
       "    <tr>\n",
       "      <th>7420</th>\n",
       "      <td>CNN</td>\n",
       "      <td>2021-11-19</td>\n",
       "      <td>Judge sentences 'QAnon Shaman' Jacob Chansley ...</td>\n",
       "    </tr>\n",
       "    <tr>\n",
       "      <th>7421</th>\n",
       "      <td>CNN</td>\n",
       "      <td>2021-11-19</td>\n",
       "      <td>Watch prosecutor grill Travis McMichael over A...</td>\n",
       "    </tr>\n",
       "    <tr>\n",
       "      <th>...</th>\n",
       "      <td>...</td>\n",
       "      <td>...</td>\n",
       "      <td>...</td>\n",
       "    </tr>\n",
       "    <tr>\n",
       "      <th>87394</th>\n",
       "      <td>PBS</td>\n",
       "      <td>2017-08-16</td>\n",
       "      <td>VA Sec. Shulkin discusses Veterans Educational...</td>\n",
       "    </tr>\n",
       "    <tr>\n",
       "      <th>87395</th>\n",
       "      <td>PBS</td>\n",
       "      <td>2017-08-16</td>\n",
       "      <td>AG Sessions discusses sanctuary cities in Miami</td>\n",
       "    </tr>\n",
       "    <tr>\n",
       "      <th>87396</th>\n",
       "      <td>PBS</td>\n",
       "      <td>2017-08-16</td>\n",
       "      <td>Vice President Pence responds to question on P...</td>\n",
       "    </tr>\n",
       "    <tr>\n",
       "      <th>87397</th>\n",
       "      <td>PBS</td>\n",
       "      <td>2017-08-16</td>\n",
       "      <td>Funeral service for Heather Heyer, who was kil...</td>\n",
       "    </tr>\n",
       "    <tr>\n",
       "      <th>87398</th>\n",
       "      <td>PBS</td>\n",
       "      <td>2017-08-16</td>\n",
       "      <td>Baltimore mayor addresses removal of Confedera...</td>\n",
       "    </tr>\n",
       "  </tbody>\n",
       "</table>\n",
       "<p>79982 rows × 3 columns</p>\n",
       "</div>"
      ],
      "text/plain": [
       "      Media_Source Published_Date  \\\n",
       "7417           CNN     2021-11-19   \n",
       "7418           CNN     2021-11-19   \n",
       "7419           CNN     2021-11-19   \n",
       "7420           CNN     2021-11-19   \n",
       "7421           CNN     2021-11-19   \n",
       "...            ...            ...   \n",
       "87394          PBS     2017-08-16   \n",
       "87395          PBS     2017-08-16   \n",
       "87396          PBS     2017-08-16   \n",
       "87397          PBS     2017-08-16   \n",
       "87398          PBS     2017-08-16   \n",
       "\n",
       "                                             Video_Title  \n",
       "7417   Analysis: Why new Ohio redistricting maps are ...  \n",
       "7418   Ahmaud Arbery's mother is 'confident we will g...  \n",
       "7419   CNN reporter presses Belarusian Foreign Minist...  \n",
       "7420   Judge sentences 'QAnon Shaman' Jacob Chansley ...  \n",
       "7421   Watch prosecutor grill Travis McMichael over A...  \n",
       "...                                                  ...  \n",
       "87394  VA Sec. Shulkin discusses Veterans Educational...  \n",
       "87395    AG Sessions discusses sanctuary cities in Miami  \n",
       "87396  Vice President Pence responds to question on P...  \n",
       "87397  Funeral service for Heather Heyer, who was kil...  \n",
       "87398  Baltimore mayor addresses removal of Confedera...  \n",
       "\n",
       "[79982 rows x 3 columns]"
      ]
     },
     "execution_count": 56,
     "metadata": {},
     "output_type": "execute_result"
    }
   ],
   "source": [
    "df"
   ]
  }
 ],
 "metadata": {
  "kernelspec": {
   "display_name": "Python 3 (ipykernel)",
   "language": "python",
   "name": "python3"
  },
  "language_info": {
   "codemirror_mode": {
    "name": "ipython",
    "version": 3
   },
   "file_extension": ".py",
   "mimetype": "text/x-python",
   "name": "python",
   "nbconvert_exporter": "python",
   "pygments_lexer": "ipython3",
   "version": "3.9.12"
  }
 },
 "nbformat": 4,
 "nbformat_minor": 5
}

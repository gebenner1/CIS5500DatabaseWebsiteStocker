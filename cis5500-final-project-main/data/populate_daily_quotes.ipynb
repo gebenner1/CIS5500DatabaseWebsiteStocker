{
 "cells": [
  {
   "attachments": {},
   "cell_type": "markdown",
   "metadata": {},
   "source": [
    "# Populate Daily Quotes\n",
    "\n",
    "This notebook uploads daily stock information into the Daily_Stocks table.``"
   ]
  },
  {
   "cell_type": "code",
   "execution_count": 1,
   "metadata": {},
   "outputs": [],
   "source": [
    "import pandas as pd\n",
    "import yfinance as yf\n",
    "import mysql.connector as sql"
   ]
  },
  {
   "attachments": {},
   "cell_type": "markdown",
   "metadata": {},
   "source": [
    "We begin by connecting to the database."
   ]
  },
  {
   "cell_type": "code",
   "execution_count": 2,
   "metadata": {},
   "outputs": [],
   "source": [
    "db = sql.connect(\n",
    "    host=\"cis5500-final.c4vm11sv4nva.us-east-1.rds.amazonaws.com\",\n",
    "    username=\"admin\",\n",
    "    password=\"AeFZpryUI5q9PWneFsdb\",\n",
    "    database=\"Stock_And_News\"\n",
    ")"
   ]
  },
  {
   "attachments": {},
   "cell_type": "markdown",
   "metadata": {},
   "source": [
    "Next, we define a list of tickers to read fetch data for. Here, we use the tickers in the stock info table."
   ]
  },
  {
   "cell_type": "code",
   "execution_count": 3,
   "metadata": {},
   "outputs": [],
   "source": [
    "tickers = pd.read_csv(\"df_stock_info.csv\")[\"Ticker\"].values.tolist()"
   ]
  },
  {
   "attachments": {},
   "cell_type": "markdown",
   "metadata": {},
   "source": [
    "Here, we provide the SQL query to insert records into the table."
   ]
  },
  {
   "cell_type": "code",
   "execution_count": 4,
   "metadata": {},
   "outputs": [],
   "source": [
    "INSERT = \"INSERT IGNORE INTO Daily_Stocks (date, open, high, low, close, adj_close, volume, dividends, stock_splits, ticker) VALUES (%s, %s, %s, %s, %s, %s, %s, %s, %s, %s)\""
   ]
  },
  {
   "attachments": {},
   "cell_type": "markdown",
   "metadata": {},
   "source": [
    "Finally, we iterate over the tickers and add each day's data as a new record to the table."
   ]
  },
  {
   "cell_type": "code",
   "execution_count": 10,
   "metadata": {},
   "outputs": [
    {
     "name": "stdout",
     "output_type": "stream",
     "text": [
      "NVR: 9502 rows were inserted.\n",
      "NXPI: 3186 rows were inserted.\n",
      "ORLY: 7541 rows were inserted.\n",
      "OXY: 10401 rows were inserted.\n",
      "ODFL: 7919 rows were inserted.\n",
      "OMC: 10854 rows were inserted.\n",
      "ON: 5767 rows were inserted.\n",
      "OKE: 10716 rows were inserted.\n",
      "ORCL: 9341 rows were inserted.\n",
      "OGN: 475 rows were inserted.\n",
      "OTIS: 766 rows were inserted.\n",
      "PCAR: 10854 rows were inserted.\n",
      "PKG: 5832 rows were inserted.\n",
      "PARA: 4361 rows were inserted.\n",
      "PH: 10854 rows were inserted.\n",
      "PAYX: 9982 rows were inserted.\n",
      "PAYC: 2258 rows were inserted.\n",
      "PYPL: 1951 rows were inserted.\n",
      "PNR: 12590 rows were inserted.\n",
      "PEP: 12820 rows were inserted.\n",
      "PKI: 12640 rows were inserted.\n",
      "PFE: 12820 rows were inserted.\n",
      "PCG: 12820 rows were inserted.\n",
      "PM: 3789 rows were inserted.\n",
      "PSX: 2762 rows were inserted.\n",
      "PNW: 12640 rows were inserted.\n",
      "PXD: 6455 rows were inserted.\n",
      "PNC: 11947 rows were inserted.\n",
      "POOL: 6915 rows were inserted.\n",
      "PPG: 10854 rows were inserted.\n",
      "PPL: 10854 rows were inserted.\n",
      "PFG: 5398 rows were inserted.\n",
      "PG: 15419 rows were inserted.\n",
      "PGR: 10854 rows were inserted.\n",
      "PLD: 6381 rows were inserted.\n",
      "PRU: 5362 rows were inserted.\n",
      "PEG: 10906 rows were inserted.\n",
      "PTC: 8393 rows were inserted.\n",
      "PSA: 10683 rows were inserted.\n",
      "PHM: 10854 rows were inserted.\n",
      "QRVO: 2077 rows were inserted.\n",
      "PWR: 6326 rows were inserted.\n",
      "QCOM: 7884 rows were inserted.\n",
      "DGX: 6617 rows were inserted.\n",
      "RL: 6495 rows were inserted.\n",
      "RJF: 10021 rows were inserted.\n",
      "RTX: 15356 rows were inserted.\n",
      "O: 7165 rows were inserted.\n",
      "REG: 7409 rows were inserted.\n",
      "REGN: 8063 rows were inserted.\n",
      "RF: 10854 rows were inserted.\n",
      "RSG: 6230 rows were inserted.\n",
      "RMD: 7008 rows were inserted.\n",
      "RHI: 10854 rows were inserted.\n",
      "ROK: 10401 rows were inserted.\n",
      "ROL: 10854 rows were inserted.\n",
      "ROP: 7842 rows were inserted.\n",
      "ROST: 9489 rows were inserted.\n",
      "RCL: 7538 rows were inserted.\n",
      "SPGI: 12640 rows were inserted.\n",
      "CRM: 4728 rows were inserted.\n",
      "SBAC: 5989 rows were inserted.\n",
      "SLB: 10401 rows were inserted.\n",
      "STX: 5112 rows were inserted.\n",
      "SEE: 10854 rows were inserted.\n",
      "SRE: 6232 rows were inserted.\n",
      "NOW: 2707 rows were inserted.\n",
      "SHW: 10854 rows were inserted.\n",
      "SPG: 7378 rows were inserted.\n",
      "SWKS: 9721 rows were inserted.\n",
      "SJM: 7156 rows were inserted.\n",
      "SNA: 12640 rows were inserted.\n",
      "SEDG: 2020 rows were inserted.\n",
      "SO: 10401 rows were inserted.\n",
      "LUV: 10906 rows were inserted.\n",
      "SWK: 10854 rows were inserted.\n",
      "SBUX: 7749 rows were inserted.\n",
      "STT: 10854 rows were inserted.\n",
      "STLD: 6633 rows were inserted.\n",
      "STE: 7768 rows were inserted.\n",
      "SYK: 10854 rows were inserted.\n",
      "SYF: 2184 rows were inserted.\n",
      "SNPS: 7834 rows were inserted.\n",
      "SYY: 12587 rows were inserted.\n",
      "TMUS: 4018 rows were inserted.\n",
      "TROW: 9327 rows were inserted.\n",
      "TTWO: 6536 rows were inserted.\n",
      "TPR: 5657 rows were inserted.\n",
      "TRGP: 3101 rows were inserted.\n",
      "TGT: 12640 rows were inserted.\n",
      "TEL: 3979 rows were inserted.\n",
      "TDY: 5877 rows were inserted.\n",
      "TFX: 10854 rows were inserted.\n",
      "TER: 12640 rows were inserted.\n",
      "TSLA: 3213 rows were inserted.\n",
      "TXN: 12820 rows were inserted.\n",
      "TXT: 12640 rows were inserted.\n",
      "TMO: 10854 rows were inserted.\n",
      "TJX: 9014 rows were inserted.\n",
      "TSCO: 7332 rows were inserted.\n",
      "TT: 10854 rows were inserted.\n",
      "TDG: 4293 rows were inserted.\n",
      "TRV: 11947 rows were inserted.\n",
      "TRMB: 8239 rows were inserted.\n",
      "TFC: 10853 rows were inserted.\n",
      "TYL: 10854 rows were inserted.\n",
      "TSN: 10854 rows were inserted.\n",
      "USB: 12590 rows were inserted.\n",
      "UDR: 10854 rows were inserted.\n",
      "ULTA: 3886 rows were inserted.\n",
      "UNP: 10906 rows were inserted.\n",
      "UAL: 4319 rows were inserted.\n",
      "UPS: 5886 rows were inserted.\n",
      "URI: 6363 rows were inserted.\n",
      "UNH: 9693 rows were inserted.\n",
      "UHS: 10523 rows were inserted.\n",
      "VLO: 10400 rows were inserted.\n",
      "VTR: 6522 rows were inserted.\n",
      "VRSN: 6335 rows were inserted.\n",
      "VRSK: 3395 rows were inserted.\n",
      "VZ: 9922 rows were inserted.\n",
      "VRTX: 7984 rows were inserted.\n",
      "VFC: 10854 rows were inserted.\n",
      "VTRS: 10854 rows were inserted.\n",
      "VICI: 1322 rows were inserted.\n",
      "V: 3787 rows were inserted.\n",
      "VMC: 12640 rows were inserted.\n",
      "WAB: 6998 rows were inserted.\n",
      "WBA: 10854 rows were inserted.\n",
      "WMT: 12760 rows were inserted.\n",
      "WBD: 4465 rows were inserted.\n",
      "WM: 8764 rows were inserted.\n",
      "WAT: 6890 rows were inserted.\n",
      "WEC: 10854 rows were inserted.\n",
      "WFC: 12820 rows were inserted.\n",
      "WELL: 10852 rows were inserted.\n",
      "WST: 10854 rows were inserted.\n",
      "WDC: 11201 rows were inserted.\n",
      "WRK: 1958 rows were inserted.\n",
      "WY: 12590 rows were inserted.\n",
      "WHR: 12640 rows were inserted.\n",
      "WMB: 10401 rows were inserted.\n",
      "WTW: 5487 rows were inserted.\n",
      "GWW: 12640 rows were inserted.\n",
      "WYNN: 5144 rows were inserted.\n",
      "XEL: 12640 rows were inserted.\n",
      "XYL: 2886 rows were inserted.\n",
      "YUM: 6428 rows were inserted.\n",
      "ZBRA: 7968 rows were inserted.\n",
      "ZBH: 5457 rows were inserted.\n",
      "ZION: 10854 rows were inserted.\n",
      "ZTS: 2560 rows were inserted.\n"
     ]
    }
   ],
   "source": [
    "for ticker in tickers[351:]:\n",
    "    df = yf.Ticker(ticker).history(period=\"max\", auto_adjust=False).reset_index()\n",
    "    df[\"Date\"] = df[\"Date\"].map(lambda x: x.strftime(\"%Y-%m-%d\"))\n",
    "    df[\"ticker\"] = ticker\n",
    "\n",
    "    cursor = db.cursor()\n",
    "    cursor.executemany(INSERT, df.values.tolist())\n",
    "    db.commit()\n",
    "    print(f\"{ticker}:\", cursor.rowcount, \"rows were inserted.\")\n"
   ]
  },
  {
   "attachments": {},
   "cell_type": "markdown",
   "metadata": {},
   "source": [
    "Note, there were problems with row 350."
   ]
  }
 ],
 "metadata": {
  "kernelspec": {
   "display_name": "Python 3",
   "language": "python",
   "name": "python3"
  },
  "language_info": {
   "codemirror_mode": {
    "name": "ipython",
    "version": 3
   },
   "file_extension": ".py",
   "mimetype": "text/x-python",
   "name": "python",
   "nbconvert_exporter": "python",
   "pygments_lexer": "ipython3",
   "version": "3.8.10"
  },
  "orig_nbformat": 4
 },
 "nbformat": 4,
 "nbformat_minor": 2
}
